{
 "cells": [
  {
   "cell_type": "code",
   "execution_count": null,
   "id": "4fdc33e3-a9f4-4195-8084-0d64b1948b49",
   "metadata": {},
   "outputs": [],
   "source": [
    "#Pattern printing\n",
    "n=int(input(\"enter u r number\"))\n",
    "for i in range(n):\n",
    "    print(\"*\",end='')\n",
    "      "
   ]
  },
  {
   "cell_type": "code",
   "execution_count": 7,
   "id": "3abca860-01f7-4e56-a9e0-d2f6e71aefdd",
   "metadata": {},
   "outputs": [
    {
     "name": "stdin",
     "output_type": "stream",
     "text": [
      "enter u r number 3\n"
     ]
    },
    {
     "name": "stdout",
     "output_type": "stream",
     "text": [
      "***\n",
      "***\n",
      "***\n"
     ]
    }
   ],
   "source": [
    "#practice 1\n",
    "n=int(input(\"enter u r number\"))\n",
    "for i in range(n):\n",
    "    print(\"*\"*n)"
   ]
  },
  {
   "cell_type": "code",
   "execution_count": 18,
   "id": "78f63d40-1895-46d4-9ced-17243ca4a286",
   "metadata": {},
   "outputs": [
    {
     "name": "stdin",
     "output_type": "stream",
     "text": [
      "enter u r rows: 3\n"
     ]
    },
    {
     "name": "stdout",
     "output_type": "stream",
     "text": [
      "3 3 3 \n",
      "3 3 3 \n",
      "3 3 3 \n"
     ]
    }
   ],
   "source": [
    "#practice 2\n",
    "n=int(input(\"enter u r rows:\"))\n",
    "for i in range(n):\n",
    "    print((str(n)+' ')*n)"
   ]
  },
  {
   "cell_type": "code",
   "execution_count": 20,
   "id": "4a36b40c-2146-4de7-84bc-705c4a3beddf",
   "metadata": {},
   "outputs": [
    {
     "name": "stdin",
     "output_type": "stream",
     "text": [
      "enter  u r number: 4\n"
     ]
    },
    {
     "name": "stdout",
     "output_type": "stream",
     "text": [
      "True\n"
     ]
    }
   ],
   "source": [
    "#Even Or Odd\n",
    "def evenOdd(n):\n",
    "    return n%2==0\n",
    "n=int(input(\"enter  u r number:\"))\n",
    "print(evenOdd(n))\n"
   ]
  },
  {
   "cell_type": "code",
   "execution_count": 30,
   "id": "5529f011-d4ff-4ab6-8c01-6b010527c15b",
   "metadata": {},
   "outputs": [
    {
     "name": "stdin",
     "output_type": "stream",
     "text": [
      "enter  u r number: 5\n"
     ]
    },
    {
     "name": "stdout",
     "output_type": "stream",
     "text": [
      "False\n"
     ]
    }
   ],
   "source": [
    "#Method 2\n",
    "def evenOdd(n):\n",
    "    return (n&1)==0\n",
    "n=int(input(\"enter  u r number:\"))\n",
    "print(evenOdd(n))"
   ]
  },
  {
   "cell_type": "code",
   "execution_count": 57,
   "id": "ff24bb24-7286-4314-a886-c2302fbd61ad",
   "metadata": {},
   "outputs": [
    {
     "name": "stdin",
     "output_type": "stream",
     "text": [
      "enter a: 5\n",
      "enter b: 6\n"
     ]
    },
    {
     "name": "stdout",
     "output_type": "stream",
     "text": [
      "6\n"
     ]
    }
   ],
   "source": [
    "#Max Of two numbers\n",
    "def max_v1(a,b):\n",
    "    if a>b:\n",
    "        return a\n",
    "    else:\n",
    "        return b\n",
    "#Method 2\n",
    "def max_v2(a,b):\n",
    "    return a if a>b else b\n",
    "def max_v3(a,b):\n",
    "    res=lambda:a if a>b else b\n",
    "    return res\n",
    "def max_v4(a,b):\n",
    "    return max(a,b)\n",
    "a=int(input(\"enter a:\"))\n",
    "b=int(input(\"enter b:\"))\n",
    "print(max_v4(a,b))\n",
    "      "
   ]
  },
  {
   "cell_type": "code",
   "execution_count": 13,
   "id": "52b413e7-247c-4d83-9651-34974b2ca8a5",
   "metadata": {},
   "outputs": [
    {
     "name": "stdin",
     "output_type": "stream",
     "text": [
      "enter a value: 1\n",
      "enter b value: 2\n"
     ]
    },
    {
     "name": "stdout",
     "output_type": "stream",
     "text": [
      "before swap a=1 and b=2\n",
      "after swap a=2 and b=1\n"
     ]
    }
   ],
   "source": [
    "#Swap Of Two Numbers\n",
    "def swap_v1(a,b):\n",
    "    print(f\"before swap a={a} and b={b}\")\n",
    "    a,b=b,a\n",
    "    print(f\"after swap a={a} and b={b}\")\n",
    "a=int(input(\"enter a value:\"))\n",
    "b=int(input(\"enter b value:\"))\n",
    "# print(swap_v1(a,b))\n",
    "swap_v1(a,b)"
   ]
  },
  {
   "cell_type": "code",
   "execution_count": 15,
   "id": "f507d13c-b51e-4214-8235-e7412c7897ab",
   "metadata": {},
   "outputs": [
    {
     "name": "stdin",
     "output_type": "stream",
     "text": [
      "enter a value: 5\n",
      "enter b value: 6\n"
     ]
    },
    {
     "name": "stdout",
     "output_type": "stream",
     "text": [
      "before swap a=5 and b=6\n",
      "after swap a=6 and b=5\n"
     ]
    }
   ],
   "source": [
    "#Method two\n",
    "def swap_v2(a,b):\n",
    "    print(f\"before swap a={a} and b={b}\")\n",
    "    t=a\n",
    "    a=b\n",
    "    b=t\n",
    "    print(f\"after swap a={a} and b={b}\")\n",
    "a=int(input(\"enter a value:\"))\n",
    "b=int(input(\"enter b value:\"))\n",
    "# print(swap_v1(a,b))\n",
    "swap_v1(a,b) \n",
    "    "
   ]
  },
  {
   "cell_type": "code",
   "execution_count": 22,
   "id": "99858508-dc86-4f0c-b460-ff6f2b04cea2",
   "metadata": {},
   "outputs": [
    {
     "name": "stdin",
     "output_type": "stream",
     "text": [
      "enter a value: 1\n",
      "enter b value: 2\n"
     ]
    },
    {
     "name": "stdout",
     "output_type": "stream",
     "text": [
      "before swap a=1 and b=2\n",
      "after swap a=2 and b=1\n"
     ]
    }
   ],
   "source": [
    "#Method 3\n",
    "def swap_v3(a,b):\n",
    "    print(f\"before swap a={a} and b={b}\")\n",
    "    a=a^b\n",
    "    b=a^b\n",
    "    a=a^b\n",
    "    print(f\"after swap a={a} and b={b}\")\n",
    "a=int(input(\"enter a value:\"))\n",
    "b=int(input(\"enter b value:\"))\n",
    "# print(swap_v1(a,b))\n",
    "swap_v1(a,b) \n",
    "    "
   ]
  },
  {
   "cell_type": "code",
   "execution_count": 26,
   "id": "179655c1-0e81-4fff-93ad-4bacab45efb9",
   "metadata": {},
   "outputs": [
    {
     "name": "stdin",
     "output_type": "stream",
     "text": [
      "enter n value: -2\n"
     ]
    },
    {
     "name": "stdout",
     "output_type": "stream",
     "text": [
      "original value=-2 and abs value=2\n"
     ]
    }
   ],
   "source": [
    "#Absolute Value\n",
    "#Method 1\n",
    "def abs_v1(n):\n",
    "    if n<0:\n",
    "        return -n\n",
    "    else:\n",
    "        return n\n",
    "n=int(input(\"enter n value:\"))\n",
    "print(f\"original value={n} and abs value={abs_v1(n)}\")"
   ]
  },
  {
   "cell_type": "code",
   "execution_count": 34,
   "id": "0012faa2-a7bf-419c-b83d-22edf51d73bf",
   "metadata": {},
   "outputs": [
    {
     "name": "stdin",
     "output_type": "stream",
     "text": [
      "enter n value: -2\n"
     ]
    },
    {
     "name": "stdout",
     "output_type": "stream",
     "text": [
      "original value=-2 and abs value=2\n"
     ]
    }
   ],
   "source": [
    "#Method 2\n",
    "def abs_v2(n):\n",
    "    return abs(n)\n",
    "n=int(input(\"enter n value:\"))\n",
    "print(f\"original value={n} and abs value={abs_v2(n)}\")"
   ]
  },
  {
   "cell_type": "code",
   "execution_count": 38,
   "id": "6981a1f4-4a2f-4156-897a-7698e24410f7",
   "metadata": {},
   "outputs": [
    {
     "name": "stdin",
     "output_type": "stream",
     "text": [
      "enter n value: 4\n"
     ]
    },
    {
     "name": "stdout",
     "output_type": "stream",
     "text": [
      "number is 4 and sum is equal to 10\n"
     ]
    }
   ],
   "source": [
    "#Sum of N Natural Numbers\n",
    "#Method 1\n",
    "def sum_v1(n):\n",
    "     s=0\n",
    "     for i in range(1,n+1):\n",
    "         s=s+i\n",
    "     return s\n",
    "n=int(input(\"enter n value:\"))\n",
    "print(f\"number is {n} and sum is equal to {sum_v1(n)}\")   "
   ]
  },
  {
   "cell_type": "code",
   "execution_count": 40,
   "id": "cc98c22f-9e32-4354-957a-6bceef17d5bd",
   "metadata": {},
   "outputs": [
    {
     "name": "stdin",
     "output_type": "stream",
     "text": [
      "enter n value: 5\n"
     ]
    },
    {
     "name": "stdout",
     "output_type": "stream",
     "text": [
      "number is 5 and sum is equal to 15\n"
     ]
    }
   ],
   "source": [
    "#Method 2\n",
    "def sum_v2(n):\n",
    "    return n*(n+1)//2\n",
    "n=int(input(\"enter n value:\"))\n",
    "print(f\"number is {n} and sum is equal to {sum_v2(n)}\")    "
   ]
  },
  {
   "cell_type": "code",
   "execution_count": 42,
   "id": "530d3fa8-16d9-4125-9204-eedbf5b8e7b0",
   "metadata": {},
   "outputs": [
    {
     "name": "stdin",
     "output_type": "stream",
     "text": [
      "enter n value: 6\n"
     ]
    },
    {
     "name": "stdout",
     "output_type": "stream",
     "text": [
      "number is 6 and sum is equal to 21\n"
     ]
    }
   ],
   "source": [
    "#Method 3\n",
    "def sum_v3(n):\n",
    "    if(n==1):\n",
    "        return 1\n",
    "    else:\n",
    "        return n+sum_v3(n-1)\n",
    "n=int(input(\"enter n value:\"))\n",
    "print(f\"number is {n} and sum is equal to {sum_v3(n)}\") "
   ]
  },
  {
   "cell_type": "code",
   "execution_count": 46,
   "id": "76dab889-043b-40d8-b7dc-f02f7677804d",
   "metadata": {},
   "outputs": [
    {
     "name": "stdin",
     "output_type": "stream",
     "text": [
      "enter n value: 4\n"
     ]
    },
    {
     "name": "stdout",
     "output_type": "stream",
     "text": [
      "number is 4 and factorial equal to 24\n"
     ]
    }
   ],
   "source": [
    "#Factorial Of Number\n",
    "#Method 1\n",
    "def fact_v1(n):\n",
    "    f=1\n",
    "    for i in range(1,n+1):\n",
    "        f=f*i\n",
    "    return f\n",
    "n=int(input(\"enter n value:\"))\n",
    "print(f\"number is {n} and factorial equal to {fact_v1(n)}\") "
   ]
  },
  {
   "cell_type": "code",
   "execution_count": 58,
   "id": "3ffcd098-a523-469f-a5c2-4837c52386e3",
   "metadata": {},
   "outputs": [
    {
     "name": "stdin",
     "output_type": "stream",
     "text": [
      "enter n value: 5\n"
     ]
    },
    {
     "name": "stdout",
     "output_type": "stream",
     "text": [
      "number is 5 and factorial equal to 120\n"
     ]
    }
   ],
   "source": [
    "#Method 2\n",
    "import math\n",
    "def fact_v2(n):\n",
    "    return math.factorial(n)\n",
    "n=int(input(\"enter n value:\"))\n",
    "print(f\"number is {n} and factorial equal to {fact_v2(n)}\") "
   ]
  },
  {
   "cell_type": "code",
   "execution_count": 60,
   "id": "2f09e25a-96a4-4162-b632-64b4a4d3d1f9",
   "metadata": {},
   "outputs": [
    {
     "name": "stdin",
     "output_type": "stream",
     "text": [
      "enter n value: 6\n"
     ]
    },
    {
     "name": "stdout",
     "output_type": "stream",
     "text": [
      "number is 6 and factorial equal to 720\n"
     ]
    }
   ],
   "source": [
    "#Method 3\n",
    "def fact_v3(n):\n",
    "    if n==0:\n",
    "        return 1\n",
    "    else:\n",
    "        return n*fact_v3(n-1)\n",
    "n=int(input(\"enter n value:\"))\n",
    "print(f\"number is {n} and factorial equal to {fact_v3(n)}\") "
   ]
  },
  {
   "cell_type": "code",
   "execution_count": 105,
   "id": "399e2c24-834b-41dd-af28-1910de67f8f4",
   "metadata": {},
   "outputs": [
    {
     "name": "stdin",
     "output_type": "stream",
     "text": [
      "Enter a value: 123\n"
     ]
    },
    {
     "name": "stdout",
     "output_type": "stream",
     "text": [
      "3\n",
      "2\n",
      "1\n",
      "original number 123 and total count of digits is 1\n"
     ]
    }
   ],
   "source": [
    "#Digit Extraction\n",
    "#method 1\n",
    "def digits_v1(n):\n",
    "    while n!=0:\n",
    "        print(n%10)\n",
    "        n=n//10\n",
    "n=int(input(\"Enter a value:\"))\n",
    "print(f\"original number {n} and total count of digits is {digits_v1(n)}\")"
   ]
  },
  {
   "cell_type": "code",
   "execution_count": 95,
   "id": "9c376324-ee73-431f-ba11-29b5e1135160",
   "metadata": {},
   "outputs": [
    {
     "name": "stdin",
     "output_type": "stream",
     "text": [
      "Enter a value: 563\n"
     ]
    },
    {
     "name": "stdout",
     "output_type": "stream",
     "text": [
      "3\n",
      "6\n",
      "5\n",
      "original number 563 and total count of digits is None\n"
     ]
    }
   ],
   "source": [
    "#Method 2\n",
    "def digits_v2(n):\n",
    "    s=str(n)\n",
    "    for i in s[::-1]:\n",
    "        print(i)\n",
    "n=int(input(\"Enter a value:\"))\n",
    "print(f\"original number {n} and total count of digits is {digits_v1(n)}\")\n"
   ]
  },
  {
   "cell_type": "code",
   "execution_count": 99,
   "id": "d002f5e3-af6b-4e0e-aa8b-aaa2baf42b54",
   "metadata": {},
   "outputs": [
    {
     "name": "stdin",
     "output_type": "stream",
     "text": [
      "Enter a value: 123456\n"
     ]
    },
    {
     "name": "stdout",
     "output_type": "stream",
     "text": [
      "original number 123456 and total count of digits is 6\n"
     ]
    }
   ],
   "source": [
    "#Count The Digits\n",
    "#Method 1\n",
    "def count_v1(n):\n",
    "    return len(str(n))\n",
    "n=int(input(\"Enter a value:\"))\n",
    "print(f\"original number {n} and total count of digits is {count_v1(n)}\")\n"
   ]
  },
  {
   "cell_type": "code",
   "execution_count": 109,
   "id": "2b16e169-273b-47a1-8dcc-bbe0f210aaf6",
   "metadata": {},
   "outputs": [
    {
     "name": "stdin",
     "output_type": "stream",
     "text": [
      "Enter a value: 123456\n"
     ]
    },
    {
     "name": "stdout",
     "output_type": "stream",
     "text": [
      "original number 123456 and total count of digits is 6\n"
     ]
    }
   ],
   "source": [
    "#Method 2\n",
    "def count_v2(n):\n",
    "    c=0\n",
    "    while n!=0:\n",
    "        c=c+1\n",
    "        n=n//10\n",
    "    return c\n",
    "n=int(input(\"Enter a value:\"))\n",
    "print(f\"original number {n} and total count of digits is {count_v2(n)}\")"
   ]
  },
  {
   "cell_type": "code",
   "execution_count": 123,
   "id": "4c9256bc-4a37-4fe2-bf78-2cea85cb7f02",
   "metadata": {},
   "outputs": [
    {
     "name": "stdin",
     "output_type": "stream",
     "text": [
      "Enter a value: 123\n"
     ]
    },
    {
     "name": "stdout",
     "output_type": "stream",
     "text": [
      "original number 123 and total count of digits is 3\n"
     ]
    }
   ],
   "source": [
    "#method 3\n",
    "def count_v3(n):\n",
    "    if n==0:\n",
    "        return 0\n",
    "    else:\n",
    "        return 1 + count_v3(n//10)\n",
    "n=int(input(\"Enter a value:\"))\n",
    "print(f\"original number {n} and total count of digits is {count_v3(n)}\")   "
   ]
  },
  {
   "cell_type": "code",
   "execution_count": null,
   "id": "3c9285fd-8ab8-47ea-81bb-95d2e7220c3c",
   "metadata": {},
   "outputs": [],
   "source": [
    "\n"
   ]
  }
 ],
 "metadata": {
  "kernelspec": {
   "display_name": "Python [conda env:base] *",
   "language": "python",
   "name": "conda-base-py"
  },
  "language_info": {
   "codemirror_mode": {
    "name": "ipython",
    "version": 3
   },
   "file_extension": ".py",
   "mimetype": "text/x-python",
   "name": "python",
   "nbconvert_exporter": "python",
   "pygments_lexer": "ipython3",
   "version": "3.12.7"
  }
 },
 "nbformat": 4,
 "nbformat_minor": 5
}
